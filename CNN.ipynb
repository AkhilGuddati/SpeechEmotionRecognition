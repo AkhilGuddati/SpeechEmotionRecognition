{
  "cells": [
    {
      "cell_type": "code",
      "execution_count": 24,
      "metadata": {
        "id": "jgAo_kV5iwbk"
      },
      "outputs": [],
      "source": [
        "import pandas as pd\n",
        "import numpy as np\n",
        "import random\n",
        "import matplotlib.pyplot as plt"
      ]
    },
    {
      "cell_type": "code",
      "execution_count": 25,
      "metadata": {
        "id": "03BpkZcpeaoV"
      },
      "outputs": [],
      "source": [
        "dataframe = pd.read_csv(\"./drive/MyDrive/IEEE/Final_Data1.csv\")\n",
        "dataset=np.array(dataframe)\n",
        "Y = dataframe[\"0\"].values\n",
        "X = dataset[:,1]"
      ]
    },
    {
      "cell_type": "code",
      "execution_count": 26,
      "metadata": {
        "id": "gqoNlAvcZsm7"
      },
      "outputs": [],
      "source": [
        "x = []\n",
        "for i in range(len(X)):\n",
        "   x = x + [pd.eval(X[i])]"
      ]
    },
    {
      "cell_type": "code",
      "execution_count": 27,
      "metadata": {
        "id": "n3jxbrTa7iiZ"
      },
      "outputs": [],
      "source": [
        "X=np.array(x).astype('float32')"
      ]
    },
    {
      "cell_type": "code",
      "execution_count": 28,
      "metadata": {
        "id": "REDkYNiBAU3l"
      },
      "outputs": [],
      "source": [
        "X=np.reshape(X,(36486,31,5,1))"
      ]
    },
    {
      "cell_type": "code",
      "execution_count": 29,
      "metadata": {
        "id": "qoysMVBhyqiN"
      },
      "outputs": [],
      "source": [
        "Y=pd.get_dummies(dataframe) "
      ]
    },
    {
      "cell_type": "code",
      "execution_count": 30,
      "metadata": {
        "id": "dxmt4K-DO13P"
      },
      "outputs": [],
      "source": [
        "Y=Y.iloc[:,:8]"
      ]
    },
    {
      "cell_type": "code",
      "execution_count": 31,
      "metadata": {
        "id": "xFSbPN-EdN48"
      },
      "outputs": [],
      "source": [
        "Y=np.array(Y)"
      ]
    },
    {
      "cell_type": "code",
      "execution_count": 32,
      "metadata": {
        "id": "BNLVunyNIKEM"
      },
      "outputs": [],
      "source": [
        "randomize = np.arange(len(X))\n",
        "np.random.shuffle(randomize)\n",
        "x = X[randomize]\n",
        "y = Y[randomize]"
      ]
    },
    {
      "cell_type": "code",
      "execution_count": 33,
      "metadata": {
        "id": "-pGy_dQSLQWh"
      },
      "outputs": [],
      "source": [
        "x_train = x[0:33000]\n",
        "y_train = y[0:33000]\n",
        "x_test = x[33000:]\n",
        "y_test = y[33000:]\n",
        "x_val = x[33000:]\n",
        "y_val = y[33000:]"
      ]
    },
    {
      "cell_type": "code",
      "execution_count": 34,
      "metadata": {
        "id": "O0xpR_jNQgHG"
      },
      "outputs": [],
      "source": [
        "import tensorflow as tf\n",
        "from tensorflow import keras\n",
        "from tensorflow.keras import layers\n",
        "from keras import regularizers\n",
        "from keras.callbacks import ReduceLROnPlateau"
      ]
    },
    {
      "cell_type": "code",
      "execution_count": 36,
      "metadata": {
        "colab": {
          "base_uri": "https://localhost:8080/"
        },
        "id": "S2BGLj9eWB8b",
        "outputId": "302e44a3-c860-4413-f4b4-7a91f48293c0"
      },
      "outputs": [
        {
          "output_type": "stream",
          "name": "stdout",
          "text": [
            "Epoch 1/100\n",
            "1032/1032 [==============================] - 6s 5ms/step - loss: 1.7203 - accuracy: 0.3034 - val_loss: 1.5423 - val_accuracy: 0.3600 - lr: 0.0010\n",
            "Epoch 2/100\n",
            "1032/1032 [==============================] - 10s 9ms/step - loss: 1.4982 - accuracy: 0.4009 - val_loss: 1.3747 - val_accuracy: 0.4489 - lr: 0.0010\n",
            "Epoch 3/100\n",
            "1032/1032 [==============================] - 5s 5ms/step - loss: 1.3785 - accuracy: 0.4568 - val_loss: 1.2995 - val_accuracy: 0.4834 - lr: 0.0010\n",
            "Epoch 4/100\n",
            "1032/1032 [==============================] - 5s 5ms/step - loss: 1.3177 - accuracy: 0.4816 - val_loss: 1.2946 - val_accuracy: 0.4851 - lr: 0.0010\n",
            "Epoch 5/100\n",
            "1032/1032 [==============================] - 5s 5ms/step - loss: 1.2728 - accuracy: 0.4969 - val_loss: 1.2153 - val_accuracy: 0.5080 - lr: 0.0010\n",
            "Epoch 6/100\n",
            "1032/1032 [==============================] - 5s 5ms/step - loss: 1.2254 - accuracy: 0.5159 - val_loss: 1.2036 - val_accuracy: 0.5229 - lr: 0.0010\n",
            "Epoch 7/100\n",
            "1032/1032 [==============================] - 5s 5ms/step - loss: 1.1861 - accuracy: 0.5291 - val_loss: 1.1823 - val_accuracy: 0.5367 - lr: 0.0010\n",
            "Epoch 8/100\n",
            "1032/1032 [==============================] - 5s 5ms/step - loss: 1.1622 - accuracy: 0.5382 - val_loss: 1.1827 - val_accuracy: 0.5290 - lr: 0.0010\n",
            "Epoch 9/100\n",
            "1032/1032 [==============================] - 5s 5ms/step - loss: 1.1416 - accuracy: 0.5488 - val_loss: 1.1598 - val_accuracy: 0.5321 - lr: 0.0010\n",
            "Epoch 10/100\n",
            "1032/1032 [==============================] - 5s 5ms/step - loss: 1.1160 - accuracy: 0.5585 - val_loss: 1.1396 - val_accuracy: 0.5425 - lr: 0.0010\n",
            "Epoch 11/100\n",
            "1032/1032 [==============================] - 5s 5ms/step - loss: 1.1013 - accuracy: 0.5650 - val_loss: 1.1583 - val_accuracy: 0.5476 - lr: 0.0010\n",
            "Epoch 12/100\n",
            "1032/1032 [==============================] - 5s 5ms/step - loss: 1.0882 - accuracy: 0.5699 - val_loss: 1.1142 - val_accuracy: 0.5542 - lr: 0.0010\n",
            "Epoch 13/100\n",
            "1032/1032 [==============================] - 5s 5ms/step - loss: 1.0733 - accuracy: 0.5756 - val_loss: 1.1236 - val_accuracy: 0.5505 - lr: 0.0010\n",
            "Epoch 14/100\n",
            "1032/1032 [==============================] - 5s 5ms/step - loss: 1.0502 - accuracy: 0.5858 - val_loss: 1.1371 - val_accuracy: 0.5551 - lr: 0.0010\n",
            "Epoch 15/100\n",
            "1032/1032 [==============================] - 5s 5ms/step - loss: 1.0357 - accuracy: 0.5946 - val_loss: 1.1251 - val_accuracy: 0.5499 - lr: 0.0010\n",
            "Epoch 16/100\n",
            "1032/1032 [==============================] - 5s 5ms/step - loss: 1.0221 - accuracy: 0.5964 - val_loss: 1.0847 - val_accuracy: 0.5666 - lr: 0.0010\n",
            "Epoch 17/100\n",
            "1032/1032 [==============================] - 5s 5ms/step - loss: 1.0026 - accuracy: 0.6033 - val_loss: 1.0736 - val_accuracy: 0.5634 - lr: 0.0010\n",
            "Epoch 18/100\n",
            "1032/1032 [==============================] - 5s 5ms/step - loss: 0.9897 - accuracy: 0.6098 - val_loss: 1.1096 - val_accuracy: 0.5809 - lr: 0.0010\n",
            "Epoch 19/100\n",
            "1032/1032 [==============================] - 5s 5ms/step - loss: 0.9739 - accuracy: 0.6154 - val_loss: 1.1293 - val_accuracy: 0.5766 - lr: 0.0010\n",
            "Epoch 20/100\n",
            "1032/1032 [==============================] - 5s 5ms/step - loss: 0.9533 - accuracy: 0.6241 - val_loss: 1.0932 - val_accuracy: 0.5792 - lr: 0.0010\n",
            "Epoch 21/100\n",
            "1032/1032 [==============================] - 5s 5ms/step - loss: 0.9399 - accuracy: 0.6318 - val_loss: 1.0955 - val_accuracy: 0.5863 - lr: 0.0010\n",
            "Epoch 22/100\n",
            "1032/1032 [==============================] - 5s 5ms/step - loss: 0.9247 - accuracy: 0.6337 - val_loss: 1.0548 - val_accuracy: 0.5947 - lr: 0.0010\n",
            "Epoch 23/100\n",
            "1032/1032 [==============================] - 5s 5ms/step - loss: 0.9220 - accuracy: 0.6399 - val_loss: 1.0728 - val_accuracy: 0.5921 - lr: 0.0010\n",
            "Epoch 24/100\n",
            "1032/1032 [==============================] - 5s 5ms/step - loss: 0.9010 - accuracy: 0.6469 - val_loss: 1.1106 - val_accuracy: 0.5878 - lr: 0.0010\n",
            "Epoch 25/100\n",
            "1032/1032 [==============================] - 5s 5ms/step - loss: 0.8963 - accuracy: 0.6474 - val_loss: 1.0658 - val_accuracy: 0.5858 - lr: 0.0010\n",
            "Epoch 26/100\n",
            "1032/1032 [==============================] - 5s 5ms/step - loss: 0.8701 - accuracy: 0.6582 - val_loss: 1.0599 - val_accuracy: 0.5967 - lr: 0.0010\n",
            "Epoch 27/100\n",
            "1032/1032 [==============================] - 5s 5ms/step - loss: 0.8704 - accuracy: 0.6587 - val_loss: 1.0801 - val_accuracy: 0.5955 - lr: 0.0010\n",
            "Epoch 28/100\n",
            "1032/1032 [==============================] - 5s 5ms/step - loss: 0.7795 - accuracy: 0.6948 - val_loss: 1.0205 - val_accuracy: 0.6211 - lr: 4.0000e-04\n",
            "Epoch 29/100\n",
            "1032/1032 [==============================] - 5s 5ms/step - loss: 0.7514 - accuracy: 0.7041 - val_loss: 1.0215 - val_accuracy: 0.6248 - lr: 4.0000e-04\n",
            "Epoch 30/100\n",
            "1032/1032 [==============================] - 5s 5ms/step - loss: 0.7348 - accuracy: 0.7128 - val_loss: 1.0333 - val_accuracy: 0.6262 - lr: 4.0000e-04\n",
            "Epoch 31/100\n",
            "1032/1032 [==============================] - 5s 5ms/step - loss: 0.7169 - accuracy: 0.7199 - val_loss: 1.0341 - val_accuracy: 0.6288 - lr: 4.0000e-04\n",
            "Epoch 32/100\n",
            "1032/1032 [==============================] - 5s 5ms/step - loss: 0.7072 - accuracy: 0.7233 - val_loss: 1.0418 - val_accuracy: 0.6265 - lr: 4.0000e-04\n",
            "Epoch 33/100\n",
            "1032/1032 [==============================] - 5s 5ms/step - loss: 0.6969 - accuracy: 0.7250 - val_loss: 1.0439 - val_accuracy: 0.6343 - lr: 4.0000e-04\n",
            "Epoch 34/100\n",
            "1032/1032 [==============================] - 5s 5ms/step - loss: 0.6875 - accuracy: 0.7329 - val_loss: 1.0566 - val_accuracy: 0.6388 - lr: 4.0000e-04\n",
            "Epoch 35/100\n",
            "1032/1032 [==============================] - 5s 5ms/step - loss: 0.6733 - accuracy: 0.7372 - val_loss: 1.0703 - val_accuracy: 0.6397 - lr: 4.0000e-04\n",
            "Epoch 36/100\n",
            "1032/1032 [==============================] - 5s 5ms/step - loss: 0.6634 - accuracy: 0.7409 - val_loss: 1.0862 - val_accuracy: 0.6397 - lr: 4.0000e-04\n",
            "Epoch 37/100\n",
            "1032/1032 [==============================] - 5s 5ms/step - loss: 0.6569 - accuracy: 0.7458 - val_loss: 1.0363 - val_accuracy: 0.6408 - lr: 4.0000e-04\n",
            "Epoch 38/100\n",
            "1032/1032 [==============================] - 5s 5ms/step - loss: 0.6444 - accuracy: 0.7504 - val_loss: 1.0597 - val_accuracy: 0.6477 - lr: 4.0000e-04\n",
            "Epoch 39/100\n",
            "1032/1032 [==============================] - 5s 5ms/step - loss: 0.6398 - accuracy: 0.7533 - val_loss: 1.0962 - val_accuracy: 0.6520 - lr: 4.0000e-04\n",
            "Epoch 40/100\n",
            "1032/1032 [==============================] - 5s 5ms/step - loss: 0.6324 - accuracy: 0.7560 - val_loss: 1.0673 - val_accuracy: 0.6480 - lr: 4.0000e-04\n",
            "Epoch 41/100\n",
            "1032/1032 [==============================] - 5s 5ms/step - loss: 0.6257 - accuracy: 0.7604 - val_loss: 1.0711 - val_accuracy: 0.6618 - lr: 4.0000e-04\n",
            "Epoch 42/100\n",
            "1032/1032 [==============================] - 6s 5ms/step - loss: 0.6107 - accuracy: 0.7625 - val_loss: 1.0718 - val_accuracy: 0.6443 - lr: 4.0000e-04\n",
            "Epoch 43/100\n",
            "1032/1032 [==============================] - 5s 5ms/step - loss: 0.6107 - accuracy: 0.7630 - val_loss: 1.0927 - val_accuracy: 0.6546 - lr: 4.0000e-04\n",
            "Epoch 44/100\n",
            "1032/1032 [==============================] - 5s 5ms/step - loss: 0.5658 - accuracy: 0.7830 - val_loss: 1.0780 - val_accuracy: 0.6644 - lr: 1.6000e-04\n",
            "Epoch 45/100\n",
            "1032/1032 [==============================] - 5s 5ms/step - loss: 0.5574 - accuracy: 0.7858 - val_loss: 1.0950 - val_accuracy: 0.6681 - lr: 1.6000e-04\n",
            "Epoch 46/100\n",
            "1032/1032 [==============================] - 5s 5ms/step - loss: 0.5499 - accuracy: 0.7888 - val_loss: 1.1117 - val_accuracy: 0.6692 - lr: 1.6000e-04\n",
            "Epoch 47/100\n",
            "1032/1032 [==============================] - 5s 5ms/step - loss: 0.5419 - accuracy: 0.7918 - val_loss: 1.1172 - val_accuracy: 0.6670 - lr: 1.6000e-04\n",
            "Epoch 48/100\n",
            "1032/1032 [==============================] - 5s 5ms/step - loss: 0.5400 - accuracy: 0.7929 - val_loss: 1.1355 - val_accuracy: 0.6733 - lr: 1.6000e-04\n",
            "Epoch 49/100\n",
            "1032/1032 [==============================] - 5s 5ms/step - loss: 0.5358 - accuracy: 0.7938 - val_loss: 1.0955 - val_accuracy: 0.6738 - lr: 1.6000e-04\n",
            "Epoch 50/100\n",
            "1032/1032 [==============================] - 5s 5ms/step - loss: 0.5306 - accuracy: 0.7969 - val_loss: 1.1186 - val_accuracy: 0.6750 - lr: 1.6000e-04\n",
            "Epoch 51/100\n",
            "1032/1032 [==============================] - 5s 5ms/step - loss: 0.5276 - accuracy: 0.7988 - val_loss: 1.1613 - val_accuracy: 0.6738 - lr: 1.6000e-04\n",
            "Epoch 52/100\n",
            "1032/1032 [==============================] - 5s 5ms/step - loss: 0.5216 - accuracy: 0.8007 - val_loss: 1.1200 - val_accuracy: 0.6730 - lr: 1.6000e-04\n",
            "Epoch 53/100\n",
            "1032/1032 [==============================] - 5s 5ms/step - loss: 0.5180 - accuracy: 0.8014 - val_loss: 1.1899 - val_accuracy: 0.6701 - lr: 1.6000e-04\n",
            "Epoch 54/100\n",
            "1032/1032 [==============================] - 5s 5ms/step - loss: 0.5136 - accuracy: 0.8035 - val_loss: 1.1522 - val_accuracy: 0.6758 - lr: 1.6000e-04\n",
            "Epoch 55/100\n",
            "1032/1032 [==============================] - 5s 5ms/step - loss: 0.5123 - accuracy: 0.8045 - val_loss: 1.1615 - val_accuracy: 0.6764 - lr: 1.6000e-04\n",
            "Epoch 56/100\n",
            "1032/1032 [==============================] - 5s 5ms/step - loss: 0.5048 - accuracy: 0.8059 - val_loss: 1.1846 - val_accuracy: 0.6779 - lr: 1.6000e-04\n",
            "Epoch 57/100\n",
            "1032/1032 [==============================] - 5s 5ms/step - loss: 0.5061 - accuracy: 0.8050 - val_loss: 1.1576 - val_accuracy: 0.6787 - lr: 1.6000e-04\n",
            "Epoch 58/100\n",
            "1032/1032 [==============================] - 5s 5ms/step - loss: 0.4874 - accuracy: 0.8146 - val_loss: 1.1875 - val_accuracy: 0.6836 - lr: 6.4000e-05\n",
            "Epoch 59/100\n",
            "1032/1032 [==============================] - 5s 5ms/step - loss: 0.4827 - accuracy: 0.8156 - val_loss: 1.1801 - val_accuracy: 0.6822 - lr: 6.4000e-05\n",
            "Epoch 60/100\n",
            "1032/1032 [==============================] - 5s 5ms/step - loss: 0.4790 - accuracy: 0.8194 - val_loss: 1.1912 - val_accuracy: 0.6819 - lr: 6.4000e-05\n",
            "Epoch 61/100\n",
            "1032/1032 [==============================] - 5s 5ms/step - loss: 0.4768 - accuracy: 0.8178 - val_loss: 1.1768 - val_accuracy: 0.6847 - lr: 6.4000e-05\n",
            "Epoch 62/100\n",
            "1032/1032 [==============================] - 5s 5ms/step - loss: 0.4773 - accuracy: 0.8181 - val_loss: 1.1863 - val_accuracy: 0.6833 - lr: 6.4000e-05\n",
            "Epoch 63/100\n",
            "1032/1032 [==============================] - 5s 5ms/step - loss: 0.4678 - accuracy: 0.8231 - val_loss: 1.1826 - val_accuracy: 0.6885 - lr: 2.5600e-05\n",
            "Epoch 64/100\n",
            "1032/1032 [==============================] - 5s 5ms/step - loss: 0.4672 - accuracy: 0.8214 - val_loss: 1.1832 - val_accuracy: 0.6885 - lr: 2.5600e-05\n",
            "Epoch 65/100\n",
            "1032/1032 [==============================] - 5s 5ms/step - loss: 0.4670 - accuracy: 0.8221 - val_loss: 1.2082 - val_accuracy: 0.6842 - lr: 2.5600e-05\n",
            "Epoch 66/100\n",
            "1032/1032 [==============================] - 5s 5ms/step - loss: 0.4650 - accuracy: 0.8237 - val_loss: 1.1831 - val_accuracy: 0.6888 - lr: 2.5600e-05\n",
            "Epoch 67/100\n",
            "1032/1032 [==============================] - 5s 5ms/step - loss: 0.4645 - accuracy: 0.8244 - val_loss: 1.2149 - val_accuracy: 0.6842 - lr: 2.5600e-05\n",
            "Epoch 68/100\n",
            "1032/1032 [==============================] - 5s 5ms/step - loss: 0.4627 - accuracy: 0.8250 - val_loss: 1.2023 - val_accuracy: 0.6865 - lr: 2.5600e-05\n",
            "Epoch 69/100\n",
            "1032/1032 [==============================] - 5s 5ms/step - loss: 0.4623 - accuracy: 0.8248 - val_loss: 1.2145 - val_accuracy: 0.6859 - lr: 2.5600e-05\n",
            "Epoch 70/100\n",
            "1032/1032 [==============================] - 5s 5ms/step - loss: 0.4599 - accuracy: 0.8244 - val_loss: 1.2125 - val_accuracy: 0.6862 - lr: 2.5600e-05\n",
            "Epoch 71/100\n",
            "1032/1032 [==============================] - 5s 5ms/step - loss: 0.4605 - accuracy: 0.8266 - val_loss: 1.2143 - val_accuracy: 0.6827 - lr: 2.5600e-05\n",
            "Epoch 72/100\n",
            "1032/1032 [==============================] - 5s 5ms/step - loss: 0.4578 - accuracy: 0.8266 - val_loss: 1.2016 - val_accuracy: 0.6850 - lr: 1.0240e-05\n",
            "Epoch 73/100\n",
            "1032/1032 [==============================] - 5s 5ms/step - loss: 0.4562 - accuracy: 0.8292 - val_loss: 1.2073 - val_accuracy: 0.6833 - lr: 1.0240e-05\n",
            "Epoch 74/100\n",
            "1032/1032 [==============================] - 5s 5ms/step - loss: 0.4557 - accuracy: 0.8263 - val_loss: 1.2126 - val_accuracy: 0.6842 - lr: 1.0240e-05\n",
            "Epoch 75/100\n",
            "1032/1032 [==============================] - 5s 5ms/step - loss: 0.4573 - accuracy: 0.8246 - val_loss: 1.2103 - val_accuracy: 0.6870 - lr: 1.0240e-05\n",
            "Epoch 76/100\n",
            "1032/1032 [==============================] - 5s 5ms/step - loss: 0.4568 - accuracy: 0.8279 - val_loss: 1.2097 - val_accuracy: 0.6847 - lr: 4.0960e-06\n",
            "Epoch 77/100\n",
            "1032/1032 [==============================] - 5s 5ms/step - loss: 0.4573 - accuracy: 0.8272 - val_loss: 1.2129 - val_accuracy: 0.6853 - lr: 1.6384e-06\n",
            "Epoch 78/100\n",
            "1032/1032 [==============================] - 5s 5ms/step - loss: 0.4550 - accuracy: 0.8272 - val_loss: 1.2128 - val_accuracy: 0.6850 - lr: 6.5536e-07\n",
            "Epoch 79/100\n",
            "1032/1032 [==============================] - 5s 5ms/step - loss: 0.4550 - accuracy: 0.8290 - val_loss: 1.2119 - val_accuracy: 0.6859 - lr: 6.5536e-07\n",
            "Epoch 80/100\n",
            "1032/1032 [==============================] - 5s 5ms/step - loss: 0.4547 - accuracy: 0.8291 - val_loss: 1.2122 - val_accuracy: 0.6859 - lr: 2.6214e-07\n",
            "Epoch 81/100\n",
            "1032/1032 [==============================] - 5s 5ms/step - loss: 0.4542 - accuracy: 0.8272 - val_loss: 1.2124 - val_accuracy: 0.6856 - lr: 2.6214e-07\n",
            "Epoch 82/100\n",
            "1032/1032 [==============================] - 5s 5ms/step - loss: 0.4566 - accuracy: 0.8274 - val_loss: 1.2122 - val_accuracy: 0.6853 - lr: 2.6214e-07\n",
            "Epoch 83/100\n",
            "1032/1032 [==============================] - 5s 5ms/step - loss: 0.4546 - accuracy: 0.8282 - val_loss: 1.2123 - val_accuracy: 0.6853 - lr: 1.0486e-07\n",
            "Epoch 84/100\n",
            "1032/1032 [==============================] - 5s 5ms/step - loss: 0.4551 - accuracy: 0.8285 - val_loss: 1.2124 - val_accuracy: 0.6853 - lr: 1.0000e-07\n",
            "Epoch 85/100\n",
            "1032/1032 [==============================] - 5s 5ms/step - loss: 0.4553 - accuracy: 0.8272 - val_loss: 1.2124 - val_accuracy: 0.6853 - lr: 1.0000e-07\n",
            "Epoch 86/100\n",
            "1032/1032 [==============================] - 5s 5ms/step - loss: 0.4547 - accuracy: 0.8285 - val_loss: 1.2125 - val_accuracy: 0.6853 - lr: 1.0000e-07\n",
            "Epoch 87/100\n",
            "1032/1032 [==============================] - 5s 5ms/step - loss: 0.4525 - accuracy: 0.8285 - val_loss: 1.2127 - val_accuracy: 0.6856 - lr: 1.0000e-07\n",
            "Epoch 88/100\n",
            "1032/1032 [==============================] - 5s 5ms/step - loss: 0.4530 - accuracy: 0.8282 - val_loss: 1.2128 - val_accuracy: 0.6853 - lr: 1.0000e-07\n",
            "Epoch 89/100\n",
            "1032/1032 [==============================] - 5s 5ms/step - loss: 0.4536 - accuracy: 0.8289 - val_loss: 1.2127 - val_accuracy: 0.6853 - lr: 1.0000e-07\n",
            "Epoch 90/100\n",
            "1032/1032 [==============================] - 5s 5ms/step - loss: 0.4568 - accuracy: 0.8286 - val_loss: 1.2127 - val_accuracy: 0.6853 - lr: 1.0000e-07\n",
            "Epoch 91/100\n",
            "1032/1032 [==============================] - 5s 5ms/step - loss: 0.4542 - accuracy: 0.8288 - val_loss: 1.2128 - val_accuracy: 0.6850 - lr: 1.0000e-07\n",
            "Epoch 92/100\n",
            "1032/1032 [==============================] - 5s 5ms/step - loss: 0.4571 - accuracy: 0.8278 - val_loss: 1.2128 - val_accuracy: 0.6850 - lr: 1.0000e-07\n",
            "Epoch 93/100\n",
            "1032/1032 [==============================] - 5s 5ms/step - loss: 0.4539 - accuracy: 0.8260 - val_loss: 1.2128 - val_accuracy: 0.6853 - lr: 1.0000e-07\n",
            "Epoch 94/100\n",
            "1032/1032 [==============================] - 5s 5ms/step - loss: 0.4533 - accuracy: 0.8278 - val_loss: 1.2129 - val_accuracy: 0.6853 - lr: 1.0000e-07\n",
            "Epoch 95/100\n",
            "1032/1032 [==============================] - 5s 5ms/step - loss: 0.4555 - accuracy: 0.8275 - val_loss: 1.2129 - val_accuracy: 0.6856 - lr: 1.0000e-07\n",
            "Epoch 96/100\n",
            "1032/1032 [==============================] - 5s 5ms/step - loss: 0.4562 - accuracy: 0.8278 - val_loss: 1.2127 - val_accuracy: 0.6856 - lr: 1.0000e-07\n",
            "Epoch 97/100\n",
            "1032/1032 [==============================] - 5s 5ms/step - loss: 0.4553 - accuracy: 0.8284 - val_loss: 1.2126 - val_accuracy: 0.6859 - lr: 1.0000e-07\n",
            "Epoch 98/100\n",
            "1032/1032 [==============================] - 5s 5ms/step - loss: 0.4536 - accuracy: 0.8302 - val_loss: 1.2126 - val_accuracy: 0.6859 - lr: 1.0000e-07\n",
            "Epoch 99/100\n",
            "1032/1032 [==============================] - 5s 5ms/step - loss: 0.4550 - accuracy: 0.8293 - val_loss: 1.2125 - val_accuracy: 0.6856 - lr: 1.0000e-07\n",
            "Epoch 100/100\n",
            "1032/1032 [==============================] - 5s 5ms/step - loss: 0.4538 - accuracy: 0.8291 - val_loss: 1.2125 - val_accuracy: 0.6856 - lr: 1.0000e-07\n"
          ]
        }
      ],
      "source": [
        "model = tf.keras.models.Sequential()\n",
        "                                \n",
        "model.add(layers.Conv2D(256, kernel_size=5, activation='relu'))\n",
        "model.add(layers.MaxPooling2D(pool_size=5, strides=2, padding='same'))\n",
        "\n",
        "model.add(layers.Conv2D(128, kernel_size=5, activation='relu', padding='same'))\n",
        "model.add(layers.MaxPooling2D(pool_size=5, strides=2, padding='same'))\n",
        "\n",
        "model.add(layers.Conv1D(64, kernel_size=3, activation='relu', padding='same'))\n",
        "model.add(layers.MaxPooling2D(pool_size=3, strides=2, padding='same'))\n",
        "\n",
        "#model.add(layers.Conv1D(32, kernel_size=2, activation='relu',padding='same'))\n",
        "#model.add(layers.MaxPooling2D(pool_size=2, strides=2, padding='same'))\n",
        "\n",
        "model.add(layers.Dropout(rate=0.3))\n",
        "\n",
        "model.add(layers.Flatten())\n",
        "\n",
        "model.add(tf.keras.layers.Dense(8, activation=\"softmax\"))\n",
        "\n",
        "rlrp = ReduceLROnPlateau(monitor=\"loss\",factor=0.4, verbose=0, patience=1, min_lr=0.0000001)\n",
        "opt = keras.optimizers.Adam(learning_rate=0.001)\n",
        "\n",
        "model.compile(optimizer=opt, loss=\"categorical_crossentropy\", metrics=['accuracy'])\n",
        "history=model.fit(x_train, y_train, epochs=100, validation_data=(x_val,y_val), batch_size=32, callbacks=[rlrp], shuffle=True)"
      ]
    },
    {
      "cell_type": "code",
      "execution_count": 37,
      "metadata": {
        "colab": {
          "base_uri": "https://localhost:8080/",
          "height": 439
        },
        "id": "007PrWAzm_Tl",
        "outputId": "facdccfa-d580-48c9-a378-969a9952bc0a"
      },
      "outputs": [
        {
          "output_type": "stream",
          "name": "stdout",
          "text": [
            "109/109 [==============================] - 0s 4ms/step - loss: 1.2125 - accuracy: 0.6856\n",
            "Accuracy of the model :  68.55995655059814 %\n"
          ]
        },
        {
          "output_type": "display_data",
          "data": {
            "text/plain": [
              "<Figure size 1440x432 with 2 Axes>"
            ],
            "image/png": "[encoded data removed]"
          },
          "metadata": {
            "needs_background": "light"
          }
        }
      ],
      "source": [
        "print(\"Accuracy of the model : \" , model.evaluate(x_test,y_test)[1]*100 , \"%\")\n",
        "\n",
        "epochs = [i for i in range(100)]\n",
        "fig , ax = plt.subplots(1,2)\n",
        "train_acc = history.history['accuracy']\n",
        "train_loss = history.history['loss']\n",
        "test_acc = history.history['val_accuracy']\n",
        "test_loss = history.history['val_loss']\n",
        "\n",
        "fig.set_size_inches(20,6)\n",
        "ax[0].plot(epochs , train_loss , label = 'Training Loss')\n",
        "ax[0].plot(epochs , test_loss , label = 'Testing Loss')\n",
        "ax[0].set_title('Training & Testing Loss')\n",
        "ax[0].legend()\n",
        "ax[0].set_xlabel(\"Epochs\")\n",
        "\n",
        "ax[1].plot(epochs , train_acc , label = 'Training Accuracy')\n",
        "ax[1].plot(epochs , test_acc , label = 'Testing Accuracy')\n",
        "ax[1].set_title('Training & Testing Accuracy')\n",
        "ax[1].legend()\n",
        "ax[1].set_xlabel(\"Epochs\")\n",
        "plt.show()"
      ]
    },
    {
      "cell_type": "code",
      "execution_count": 38,
      "metadata": {
        "colab": {
          "base_uri": "https://localhost:8080/"
        },
        "id": "7YncVNRpmLO3",
        "outputId": "6562f20c-6071-49cf-c599-66a664dc4656"
      },
      "outputs": [
        {
          "output_type": "stream",
          "name": "stderr",
          "text": [
            "WARNING:absl:Found untraced functions such as _jit_compiled_convolution_op, _jit_compiled_convolution_op, _jit_compiled_convolution_op while saving (showing 3 of 3). These functions will not be directly callable after loading.\n"
          ]
        }
      ],
      "source": [
        "model.save('./drive/MyDrive/IEEE/SER.model')"
      ]
    },
    {
      "cell_type": "code",
      "execution_count": 39,
      "metadata": {
        "id": "-Jc0xQJknVcK"
      },
      "outputs": [],
      "source": [
        "predictor = keras.models.load_model('./drive/MyDrive/IEEE/SER.model')"
      ]
    },
    {
      "cell_type": "code",
      "execution_count": 40,
      "metadata": {
        "id": "ESEy6ue3rvug"
      },
      "outputs": [],
      "source": [
        "labels=['Angry','Calm','Disgust','Fear','Happy','Neutral','Sad','Surprised']"
      ]
    },
    {
      "cell_type": "code",
      "execution_count": 41,
      "metadata": {
        "id": "zSHl3B49nl21",
        "colab": {
          "base_uri": "https://localhost:8080/"
        },
        "outputId": "a8d8fd54-dba7-4614-d001-745d3a932f20"
      },
      "outputs": [
        {
          "output_type": "stream",
          "name": "stdout",
          "text": [
            "109/109 [==============================] - 0s 2ms/step\n"
          ]
        }
      ],
      "source": [
        "pred_test = predictor.predict(x_test)"
      ]
    },
    {
      "cell_type": "code",
      "execution_count": 42,
      "metadata": {
        "colab": {
          "base_uri": "https://localhost:8080/",
          "height": 990
        },
        "id": "OhyXtrP9spRd",
        "outputId": "f109b3d6-dc3e-43af-ef48-a600437fb8aa"
      },
      "outputs": [
        {
          "output_type": "execute_result",
          "data": {
            "text/plain": [
              "   Predicted Labels Actual Labels\n",
              "0             Angry         Angry\n",
              "1               Sad           Sad\n",
              "2              Fear          Fear\n",
              "3             Angry         Angry\n",
              "4              Fear          Fear\n",
              "5             Happy         Happy\n",
              "6             Angry         Happy\n",
              "7           Neutral       Neutral\n",
              "8             Angry         Angry\n",
              "9              Fear          Fear\n",
              "10          Neutral       Neutral\n",
              "11              Sad         Happy\n",
              "12        Surprised     Surprised\n",
              "13              Sad          Fear\n",
              "14              Sad           Sad\n",
              "15            Angry         Angry\n",
              "16          Disgust          Fear\n",
              "17             Fear          Fear\n",
              "18            Happy         Angry\n",
              "19              Sad           Sad\n",
              "20          Neutral       Neutral\n",
              "21            Angry         Angry\n",
              "22              Sad           Sad\n",
              "23          Neutral       Neutral\n",
              "24             Fear          Fear\n",
              "25          Neutral       Neutral\n",
              "26             Fear          Fear\n",
              "27            Happy         Happy\n",
              "28        Surprised       Neutral\n",
              "29              Sad           Sad"
            ],
            "text/html": [
              "\n",
              "  <div id=\"df-10856fca-dd2a-4598-9112-d6300b6bd05f\">\n",
              "    <div class=\"colab-df-container\">\n",
              "      <div>\n",
              "<style scoped>\n",
              "    .dataframe tbody tr th:only-of-type {\n",
              "        vertical-align: middle;\n",
              "    }\n",
              "\n",
              "    .dataframe tbody tr th {\n",
              "        vertical-align: top;\n",
              "    }\n",
              "\n",
              "    .dataframe thead th {\n",
              "        text-align: right;\n",
              "    }\n",
              "</style>\n",
              "<table border=\"1\" class=\"dataframe\">\n",
              "  <thead>\n",
              "    <tr style=\"text-align: right;\">\n",
              "      <th></th>\n",
              "      <th>Predicted Labels</th>\n",
              "      <th>Actual Labels</th>\n",
              "    </tr>\n",
              "  </thead>\n",
              "  <tbody>\n",
              "    <tr>\n",
              "      <th>0</th>\n",
              "      <td>Angry</td>\n",
              "      <td>Angry</td>\n",
              "    </tr>\n",
              "    <tr>\n",
              "      <th>1</th>\n",
              "      <td>Sad</td>\n",
              "      <td>Sad</td>\n",
              "    </tr>\n",
              "    <tr>\n",
              "      <th>2</th>\n",
              "      <td>Fear</td>\n",
              "      <td>Fear</td>\n",
              "    </tr>\n",
              "    <tr>\n",
              "      <th>3</th>\n",
              "      <td>Angry</td>\n",
              "      <td>Angry</td>\n",
              "    </tr>\n",
              "    <tr>\n",
              "      <th>4</th>\n",
              "      <td>Fear</td>\n",
              "      <td>Fear</td>\n",
              "    </tr>\n",
              "    <tr>\n",
              "      <th>5</th>\n",
              "      <td>Happy</td>\n",
              "      <td>Happy</td>\n",
              "    </tr>\n",
              "    <tr>\n",
              "      <th>6</th>\n",
              "      <td>Angry</td>\n",
              "      <td>Happy</td>\n",
              "    </tr>\n",
              "    <tr>\n",
              "      <th>7</th>\n",
              "      <td>Neutral</td>\n",
              "      <td>Neutral</td>\n",
              "    </tr>\n",
              "    <tr>\n",
              "      <th>8</th>\n",
              "      <td>Angry</td>\n",
              "      <td>Angry</td>\n",
              "    </tr>\n",
              "    <tr>\n",
              "      <th>9</th>\n",
              "      <td>Fear</td>\n",
              "      <td>Fear</td>\n",
              "    </tr>\n",
              "    <tr>\n",
              "      <th>10</th>\n",
              "      <td>Neutral</td>\n",
              "      <td>Neutral</td>\n",
              "    </tr>\n",
              "    <tr>\n",
              "      <th>11</th>\n",
              "      <td>Sad</td>\n",
              "      <td>Happy</td>\n",
              "    </tr>\n",
              "    <tr>\n",
              "      <th>12</th>\n",
              "      <td>Surprised</td>\n",
              "      <td>Surprised</td>\n",
              "    </tr>\n",
              "    <tr>\n",
              "      <th>13</th>\n",
              "      <td>Sad</td>\n",
              "      <td>Fear</td>\n",
              "    </tr>\n",
              "    <tr>\n",
              "      <th>14</th>\n",
              "      <td>Sad</td>\n",
              "      <td>Sad</td>\n",
              "    </tr>\n",
              "    <tr>\n",
              "      <th>15</th>\n",
              "      <td>Angry</td>\n",
              "      <td>Angry</td>\n",
              "    </tr>\n",
              "    <tr>\n",
              "      <th>16</th>\n",
              "      <td>Disgust</td>\n",
              "      <td>Fear</td>\n",
              "    </tr>\n",
              "    <tr>\n",
              "      <th>17</th>\n",
              "      <td>Fear</td>\n",
              "      <td>Fear</td>\n",
              "    </tr>\n",
              "    <tr>\n",
              "      <th>18</th>\n",
              "      <td>Happy</td>\n",
              "      <td>Angry</td>\n",
              "    </tr>\n",
              "    <tr>\n",
              "      <th>19</th>\n",
              "      <td>Sad</td>\n",
              "      <td>Sad</td>\n",
              "    </tr>\n",
              "    <tr>\n",
              "      <th>20</th>\n",
              "      <td>Neutral</td>\n",
              "      <td>Neutral</td>\n",
              "    </tr>\n",
              "    <tr>\n",
              "      <th>21</th>\n",
              "      <td>Angry</td>\n",
              "      <td>Angry</td>\n",
              "    </tr>\n",
              "    <tr>\n",
              "      <th>22</th>\n",
              "      <td>Sad</td>\n",
              "      <td>Sad</td>\n",
              "    </tr>\n",
              "    <tr>\n",
              "      <th>23</th>\n",
              "      <td>Neutral</td>\n",
              "      <td>Neutral</td>\n",
              "    </tr>\n",
              "    <tr>\n",
              "      <th>24</th>\n",
              "      <td>Fear</td>\n",
              "      <td>Fear</td>\n",
              "    </tr>\n",
              "    <tr>\n",
              "      <th>25</th>\n",
              "      <td>Neutral</td>\n",
              "      <td>Neutral</td>\n",
              "    </tr>\n",
              "    <tr>\n",
              "      <th>26</th>\n",
              "      <td>Fear</td>\n",
              "      <td>Fear</td>\n",
              "    </tr>\n",
              "    <tr>\n",
              "      <th>27</th>\n",
              "      <td>Happy</td>\n",
              "      <td>Happy</td>\n",
              "    </tr>\n",
              "    <tr>\n",
              "      <th>28</th>\n",
              "      <td>Surprised</td>\n",
              "      <td>Neutral</td>\n",
              "    </tr>\n",
              "    <tr>\n",
              "      <th>29</th>\n",
              "      <td>Sad</td>\n",
              "      <td>Sad</td>\n",
              "    </tr>\n",
              "  </tbody>\n",
              "</table>\n",
              "</div>\n",
              "      <button class=\"colab-df-convert\" onclick=\"convertToInteractive('df-10856fca-dd2a-4598-9112-d6300b6bd05f')\"\n",
              "              title=\"Convert this dataframe to an interactive table.\"\n",
              "              style=\"display:none;\">\n",
              "        \n",
              "  <svg xmlns=\"http://www.w3.org/2000/svg\" height=\"24px\"viewBox=\"0 0 24 24\"\n",
              "       width=\"24px\">\n",
              "    <path d=\"M0 0h24v24H0V0z\" fill=\"none\"/>\n",
              "    <path d=\"M18.56 5.44l.94 2.06.94-2.06 2.06-.94-2.06-.94-.94-2.06-.94 2.06-2.06.94zm-11 1L8.5 8.5l.94-2.06 2.06-.94-2.06-.94L8.5 2.5l-.94 2.06-2.06.94zm10 10l.94 2.06.94-2.06 2.06-.94-2.06-.94-.94-2.06-.94 2.06-2.06.94z\"/><path d=\"M17.41 7.96l-1.37-1.37c-.4-.4-.92-.59-1.43-.59-.52 0-1.04.2-1.43.59L10.3 9.45l-7.72 7.72c-.78.78-.78 2.05 0 2.83L4 21.41c.39.39.9.59 1.41.59.51 0 1.02-.2 1.41-.59l7.78-7.78 2.81-2.81c.8-.78.8-2.07 0-2.86zM5.41 20L4 18.59l7.72-7.72 1.47 1.35L5.41 20z\"/>\n",
              "  </svg>\n",
              "      </button>\n",
              "      \n",
              "  <style>\n",
              "    .colab-df-container {\n",
              "      display:flex;\n",
              "      flex-wrap:wrap;\n",
              "      gap: 12px;\n",
              "    }\n",
              "\n",
              "    .colab-df-convert {\n",
              "      background-color: #E8F0FE;\n",
              "      border: none;\n",
              "      border-radius: 50%;\n",
              "      cursor: pointer;\n",
              "      display: none;\n",
              "      fill: #1967D2;\n",
              "      height: 32px;\n",
              "      padding: 0 0 0 0;\n",
              "      width: 32px;\n",
              "    }\n",
              "\n",
              "    .colab-df-convert:hover {\n",
              "      background-color: #E2EBFA;\n",
              "      box-shadow: 0px 1px 2px rgba(60, 64, 67, 0.3), 0px 1px 3px 1px rgba(60, 64, 67, 0.15);\n",
              "      fill: #174EA6;\n",
              "    }\n",
              "\n",
              "    [theme=dark] .colab-df-convert {\n",
              "      background-color: #3B4455;\n",
              "      fill: #D2E3FC;\n",
              "    }\n",
              "\n",
              "    [theme=dark] .colab-df-convert:hover {\n",
              "      background-color: #434B5C;\n",
              "      box-shadow: 0px 1px 3px 1px rgba(0, 0, 0, 0.15);\n",
              "      filter: drop-shadow(0px 1px 2px rgba(0, 0, 0, 0.3));\n",
              "      fill: #FFFFFF;\n",
              "    }\n",
              "  </style>\n",
              "\n",
              "      <script>\n",
              "        const buttonEl =\n",
              "          document.querySelector('#df-10856fca-dd2a-4598-9112-d6300b6bd05f button.colab-df-convert');\n",
              "        buttonEl.style.display =\n",
              "          google.colab.kernel.accessAllowed ? 'block' : 'none';\n",
              "\n",
              "        async function convertToInteractive(key) {\n",
              "          const element = document.querySelector('#df-10856fca-dd2a-4598-9112-d6300b6bd05f');\n",
              "          const dataTable =\n",
              "            await google.colab.kernel.invokeFunction('convertToInteractive',\n",
              "                                                     [key], {});\n",
              "          if (!dataTable) return;\n",
              "\n",
              "          const docLinkHtml = 'Like what you see? Visit the ' +\n",
              "            '<a target=\"_blank\" href=https://colab.research.google.com/notebooks/data_table.ipynb>data table notebook</a>'\n",
              "            + ' to learn more about interactive tables.';\n",
              "          element.innerHTML = '';\n",
              "          dataTable['output_type'] = 'display_data';\n",
              "          await google.colab.output.renderOutput(dataTable, element);\n",
              "          const docLink = document.createElement('div');\n",
              "          docLink.innerHTML = docLinkHtml;\n",
              "          element.appendChild(docLink);\n",
              "        }\n",
              "      </script>\n",
              "    </div>\n",
              "  </div>\n",
              "  "
            ]
          },
          "metadata": {},
          "execution_count": 42
        }
      ],
      "source": [
        "actual_label = []\n",
        "pred_label = []\n",
        "for i in pred_test:\n",
        "  pred_label.append(labels[list(i).index(max(i))])\n",
        "for j in y_test:\n",
        "  actual_label.append(labels[list(j).index(max(j))])\n",
        "actual_label=np.array(actual_label)\n",
        "pred_label=np.array(pred_label)  \n",
        "df = pd.DataFrame(columns=['Predicted Labels', 'Actual Labels'])\n",
        "df['Predicted Labels'] = pred_label.flatten()\n",
        "df['Actual Labels'] = actual_label.flatten()\n",
        "df.head(30)"
      ]
    }
  ],
  "metadata": {
    "accelerator": "GPU",
    "colab": {
      "collapsed_sections": [],
      "provenance": []
    },
    "gpuClass": "standard",
    "kernelspec": {
      "display_name": "Python 3",
      "name": "python3"
    },
    "language_info": {
      "name": "python"
    }
  },
  "nbformat": 4,
  "nbformat_minor": 0
}